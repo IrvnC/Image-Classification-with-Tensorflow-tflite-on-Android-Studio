{
 "cells": [
  {
   "cell_type": "markdown",
   "id": "db3fc2a0",
   "metadata": {},
   "source": [
    "### Import Library "
   ]
  },
  {
   "cell_type": "code",
   "execution_count": 1,
   "id": "513eb2d3",
   "metadata": {},
   "outputs": [],
   "source": [
    "import numpy as np\n",
    "import tensorflow as tf\n",
    "from tensorflow.keras.optimizers import RMSprop\n",
    "from tensorflow.keras.models import Sequential\n",
    "from tensorflow.keras.layers import Conv2D, MaxPooling2D, Flatten, Dense, Dropout\n",
    "from tensorflow.keras.preprocessing import image\n",
    "from tensorflow.keras.preprocessing.image import ImageDataGenerator\n",
    "from tensorflow import keras\n",
    "from tensorflow.keras import optimizers, regularizers\n",
    "import matplotlib.pyplot as plt\n",
    "import random\n",
    "import os"
   ]
  },
  {
   "cell_type": "markdown",
   "id": "106aaac0",
   "metadata": {},
   "source": [
    "### Dataset Exploration"
   ]
  },
  {
   "cell_type": "code",
   "execution_count": 2,
   "id": "7fc18c44",
   "metadata": {},
   "outputs": [
    {
     "name": "stdout",
     "output_type": "stream",
     "text": [
      "Train set -->  ['padat', 'senggang']\n",
      "Test set -->  ['padat', 'senggang']\n"
     ]
    }
   ],
   "source": [
    "base_dir = os.path.join(\"D:/Dataset/dataset2output/\")\n",
    "\n",
    "# Train set\n",
    "train_dir = os.path.join(base_dir + \"Train\")\n",
    "print(\"Train set --> \", os.listdir(train_dir))\n",
    "\n",
    "# Test set\n",
    "test_dir = os.path.join(base_dir + \"Test\")\n",
    "print(\"Test set --> \", os.listdir(test_dir))"
   ]
  },
  {
   "cell_type": "markdown",
   "id": "9a139f9d",
   "metadata": {},
   "source": [
    "### CNN Model"
   ]
  },
  {
   "cell_type": "code",
   "execution_count": 3,
   "id": "2728d49b",
   "metadata": {},
   "outputs": [
    {
     "name": "stdout",
     "output_type": "stream",
     "text": [
      "Model: \"sequential\"\n",
      "_________________________________________________________________\n",
      " Layer (type)                Output Shape              Param #   \n",
      "=================================================================\n",
      " conv2d (Conv2D)             (None, 148, 148, 32)      896       \n",
      "                                                                 \n",
      " batch_normalization (BatchN  (None, 148, 148, 32)     128       \n",
      " ormalization)                                                   \n",
      "                                                                 \n",
      " max_pooling2d (MaxPooling2D  (None, 74, 74, 32)       0         \n",
      " )                                                               \n",
      "                                                                 \n",
      " conv2d_1 (Conv2D)           (None, 72, 72, 128)       36992     \n",
      "                                                                 \n",
      " max_pooling2d_1 (MaxPooling  (None, 36, 36, 128)      0         \n",
      " 2D)                                                             \n",
      "                                                                 \n",
      " flatten (Flatten)           (None, 165888)            0         \n",
      "                                                                 \n",
      " dense (Dense)               (None, 512)               84935168  \n",
      "                                                                 \n",
      " dropout (Dropout)           (None, 512)               0         \n",
      "                                                                 \n",
      " dense_1 (Dense)             (None, 512)               262656    \n",
      "                                                                 \n",
      " dropout_1 (Dropout)         (None, 512)               0         \n",
      "                                                                 \n",
      " dense_2 (Dense)             (None, 2)                 1026      \n",
      "                                                                 \n",
      "=================================================================\n",
      "Total params: 85,236,866\n",
      "Trainable params: 85,236,802\n",
      "Non-trainable params: 64\n",
      "_________________________________________________________________\n"
     ]
    }
   ],
   "source": [
    "\n",
    "model = tf.keras.models.Sequential([\n",
    "    \n",
    "    tf.keras.layers.Conv2D(32, (3,3), activation='relu', input_shape=(150, 150, 3)),\n",
    "    tf.keras.layers.BatchNormalization(),\n",
    "    tf.keras.layers.MaxPooling2D(2, 2),\n",
    "    tf.keras.layers.Conv2D(128, (3,3), activation='relu'),\n",
    "    tf.keras.layers.MaxPooling2D(2,2),\n",
    "    tf.keras.layers.Flatten(),\n",
    "    tf.keras.layers.Dense(512, activation='relu', kernel_regularizer=regularizers.l2(0.001)),\n",
    "    tf.keras.layers.Dropout(0.3),\n",
    "    tf.keras.layers.Dense(512, activation='relu', kernel_regularizer=regularizers.l2(0.001)),\n",
    "    tf.keras.layers.Dropout(0.15),\n",
    "    tf.keras.layers.Dense(2, activation='softmax')\n",
    "])\n",
    "\n",
    "model.summary()"
   ]
  },
  {
   "cell_type": "markdown",
   "id": "54e88971",
   "metadata": {},
   "source": [
    "### Model & Callback Function"
   ]
  },
  {
   "cell_type": "code",
   "execution_count": 4,
   "id": "de1141ad",
   "metadata": {},
   "outputs": [],
   "source": [
    "opt=RMSprop(learning_rate=0.001)\n",
    "model.compile(loss = 'categorical_crossentropy',\n",
    "              optimizer = opt,\n",
    "              metrics = ['accuracy'])\n",
    "\n",
    "class myCallback(tf.keras.callbacks.Callback):\n",
    "    def on_epoch_end(self, epoch, logs={}):\n",
    "        if(logs.get('val_accuracy')>0.95):\n",
    "            print(\"\\nReached >90% accuracy so cancelling training!\")\n",
    "            self.model.stop_training = True\n",
    "        \n",
    "callbacks = myCallback()"
   ]
  },
  {
   "cell_type": "markdown",
   "id": "28a84186",
   "metadata": {},
   "source": [
    "### Training with Image Augmentation"
   ]
  },
  {
   "cell_type": "code",
   "execution_count": 5,
   "id": "58a1a072",
   "metadata": {},
   "outputs": [
    {
     "name": "stdout",
     "output_type": "stream",
     "text": [
      "Found 574 images belonging to 2 classes.\n"
     ]
    }
   ],
   "source": [
    "train_datagen = ImageDataGenerator(\n",
    "      rescale=1./255,\n",
    "      rotation_range=20,\n",
    "      width_shift_range=0.2, # Shifting image width by 20%\n",
    "      height_shift_range=0.2,# Shifting image height by 20%\n",
    "      shear_range=0.2,       # Shearing across X-axis by 20%\n",
    "      zoom_range=0.2,        # Image zooming by 20%\n",
    "      horizontal_flip=True,\n",
    "      fill_mode='nearest')\n",
    "\n",
    "train_generator = train_datagen.flow_from_directory(\n",
    "    train_dir,\n",
    "    target_size = (150, 150),\n",
    "    class_mode = 'categorical',\n",
    "    batch_size = 32\n",
    ")"
   ]
  },
  {
   "cell_type": "code",
   "execution_count": 6,
   "id": "94e664fb",
   "metadata": {},
   "outputs": [
    {
     "name": "stdout",
     "output_type": "stream",
     "text": [
      "Found 82 images belonging to 2 classes.\n"
     ]
    }
   ],
   "source": [
    "validation_datagen = ImageDataGenerator(rescale=1./255)\n",
    "\n",
    "validation_generator = validation_datagen.flow_from_directory(\n",
    "    test_dir,\n",
    "    target_size = (150, 150),\n",
    "    class_mode = 'categorical',\n",
    "    batch_size = 32\n",
    ")"
   ]
  },
  {
   "cell_type": "markdown",
   "id": "b33b9484",
   "metadata": {},
   "source": [
    "### Fitting the model"
   ]
  },
  {
   "cell_type": "code",
   "execution_count": 7,
   "id": "022ab1c9",
   "metadata": {},
   "outputs": [
    {
     "name": "stdout",
     "output_type": "stream",
     "text": [
      "Epoch 1/100\n",
      "17/17 [==============================] - 47s 3s/step - loss: 65.0641 - accuracy: 0.5111 - val_loss: 2.5433 - val_accuracy: 0.5156\n",
      "Epoch 2/100\n",
      "17/17 [==============================] - 66s 4s/step - loss: 3.6926 - accuracy: 0.5554 - val_loss: 2.1825 - val_accuracy: 0.5156\n",
      "Epoch 3/100\n",
      "17/17 [==============================] - 65s 4s/step - loss: 2.1498 - accuracy: 0.6439 - val_loss: 1.7583 - val_accuracy: 0.5938\n",
      "Epoch 4/100\n",
      "17/17 [==============================] - 72s 4s/step - loss: 1.6061 - accuracy: 0.6697 - val_loss: 1.4305 - val_accuracy: 0.5469\n",
      "Epoch 5/100\n",
      "17/17 [==============================] - 71s 4s/step - loss: 1.3789 - accuracy: 0.6661 - val_loss: 1.2149 - val_accuracy: 0.5938\n",
      "Epoch 6/100\n",
      "17/17 [==============================] - 72s 4s/step - loss: 1.0314 - accuracy: 0.7390 - val_loss: 1.1072 - val_accuracy: 0.5156\n",
      "Epoch 7/100\n",
      "17/17 [==============================] - 71s 4s/step - loss: 1.2398 - accuracy: 0.6882 - val_loss: 1.1032 - val_accuracy: 0.4219\n",
      "Epoch 8/100\n",
      "17/17 [==============================] - 71s 4s/step - loss: 0.8659 - accuracy: 0.7823 - val_loss: 1.0879 - val_accuracy: 0.4375\n",
      "Epoch 9/100\n",
      "17/17 [==============================] - 70s 4s/step - loss: 0.8491 - accuracy: 0.7878 - val_loss: 1.0239 - val_accuracy: 0.4219\n",
      "Epoch 10/100\n",
      "17/17 [==============================] - 63s 4s/step - loss: 0.7413 - accuracy: 0.8007 - val_loss: 0.9722 - val_accuracy: 0.4688\n",
      "Epoch 11/100\n",
      "17/17 [==============================] - 72s 4s/step - loss: 0.7410 - accuracy: 0.7731 - val_loss: 0.9720 - val_accuracy: 0.4062\n",
      "Epoch 12/100\n",
      "17/17 [==============================] - 71s 4s/step - loss: 0.5902 - accuracy: 0.8376 - val_loss: 0.9411 - val_accuracy: 0.5312\n",
      "Epoch 13/100\n",
      "17/17 [==============================] - 70s 4s/step - loss: 0.7942 - accuracy: 0.8229 - val_loss: 0.9475 - val_accuracy: 0.5312\n",
      "Epoch 14/100\n",
      "17/17 [==============================] - 70s 4s/step - loss: 0.6172 - accuracy: 0.8579 - val_loss: 0.9172 - val_accuracy: 0.4844\n",
      "Epoch 15/100\n",
      "17/17 [==============================] - 69s 4s/step - loss: 0.5921 - accuracy: 0.8358 - val_loss: 0.8967 - val_accuracy: 0.5938\n",
      "Epoch 16/100\n",
      "17/17 [==============================] - 70s 4s/step - loss: 0.5120 - accuracy: 0.8838 - val_loss: 0.8756 - val_accuracy: 0.5312\n",
      "Epoch 17/100\n",
      "17/17 [==============================] - 69s 4s/step - loss: 0.5358 - accuracy: 0.8727 - val_loss: 0.8725 - val_accuracy: 0.5625\n",
      "Epoch 18/100\n",
      "17/17 [==============================] - 71s 4s/step - loss: 0.5179 - accuracy: 0.8616 - val_loss: 0.8617 - val_accuracy: 0.6094\n",
      "Epoch 19/100\n",
      "17/17 [==============================] - 73s 4s/step - loss: 0.5602 - accuracy: 0.8542 - val_loss: 0.8573 - val_accuracy: 0.5625\n",
      "Epoch 20/100\n",
      "17/17 [==============================] - 80s 5s/step - loss: 0.4175 - accuracy: 0.9081 - val_loss: 0.8751 - val_accuracy: 0.5156\n",
      "Epoch 21/100\n",
      "17/17 [==============================] - 79s 5s/step - loss: 0.8156 - accuracy: 0.8672 - val_loss: 0.8605 - val_accuracy: 0.5156\n",
      "Epoch 22/100\n",
      "17/17 [==============================] - 78s 5s/step - loss: 0.6493 - accuracy: 0.8690 - val_loss: 0.8760 - val_accuracy: 0.5938\n",
      "Epoch 23/100\n",
      "17/17 [==============================] - 81s 5s/step - loss: 0.4684 - accuracy: 0.8893 - val_loss: 0.8565 - val_accuracy: 0.6406\n",
      "Epoch 24/100\n",
      "17/17 [==============================] - 79s 5s/step - loss: 0.5486 - accuracy: 0.8598 - val_loss: 0.8319 - val_accuracy: 0.5781\n",
      "Epoch 25/100\n",
      "17/17 [==============================] - 79s 5s/step - loss: 0.4685 - accuracy: 0.8838 - val_loss: 0.8300 - val_accuracy: 0.6094\n",
      "Epoch 26/100\n",
      "17/17 [==============================] - 80s 5s/step - loss: 0.4483 - accuracy: 0.9004 - val_loss: 0.8130 - val_accuracy: 0.6406\n",
      "Epoch 27/100\n",
      "17/17 [==============================] - 80s 5s/step - loss: 0.4607 - accuracy: 0.9022 - val_loss: 0.8530 - val_accuracy: 0.6562\n",
      "Epoch 28/100\n",
      "17/17 [==============================] - 78s 5s/step - loss: 0.3913 - accuracy: 0.9133 - val_loss: 0.7786 - val_accuracy: 0.6875\n",
      "Epoch 29/100\n",
      "17/17 [==============================] - 79s 5s/step - loss: 0.5168 - accuracy: 0.8893 - val_loss: 0.7483 - val_accuracy: 0.6875\n",
      "Epoch 30/100\n",
      "17/17 [==============================] - 78s 5s/step - loss: 0.4619 - accuracy: 0.8930 - val_loss: 0.7725 - val_accuracy: 0.7031\n",
      "Epoch 31/100\n",
      "17/17 [==============================] - 78s 5s/step - loss: 0.4529 - accuracy: 0.9004 - val_loss: 0.9193 - val_accuracy: 0.6406\n",
      "Epoch 32/100\n",
      "17/17 [==============================] - 79s 5s/step - loss: 0.6249 - accuracy: 0.8579 - val_loss: 0.9278 - val_accuracy: 0.5469\n",
      "Epoch 33/100\n",
      "17/17 [==============================] - 79s 5s/step - loss: 0.3772 - accuracy: 0.9188 - val_loss: 0.8283 - val_accuracy: 0.6250\n",
      "Epoch 34/100\n",
      "17/17 [==============================] - 73s 4s/step - loss: 0.4207 - accuracy: 0.9026 - val_loss: 0.7721 - val_accuracy: 0.6250\n",
      "Epoch 35/100\n",
      "17/17 [==============================] - 67s 4s/step - loss: 0.4103 - accuracy: 0.9041 - val_loss: 1.2764 - val_accuracy: 0.5938\n",
      "Epoch 36/100\n",
      "17/17 [==============================] - 71s 4s/step - loss: 0.3776 - accuracy: 0.9262 - val_loss: 1.2945 - val_accuracy: 0.6250\n",
      "Epoch 37/100\n",
      "17/17 [==============================] - 67s 4s/step - loss: 0.3664 - accuracy: 0.9301 - val_loss: 1.0962 - val_accuracy: 0.6406\n",
      "Epoch 38/100\n",
      "17/17 [==============================] - 66s 4s/step - loss: 0.9008 - accuracy: 0.8967 - val_loss: 0.7782 - val_accuracy: 0.6406\n",
      "Epoch 39/100\n",
      "17/17 [==============================] - 67s 4s/step - loss: 0.3593 - accuracy: 0.9225 - val_loss: 0.8948 - val_accuracy: 0.7031\n",
      "Epoch 40/100\n",
      "17/17 [==============================] - 68s 4s/step - loss: 0.3573 - accuracy: 0.9354 - val_loss: 0.9056 - val_accuracy: 0.6719\n",
      "Epoch 41/100\n",
      "17/17 [==============================] - 66s 4s/step - loss: 0.3564 - accuracy: 0.9317 - val_loss: 1.1897 - val_accuracy: 0.6562\n",
      "Epoch 42/100\n",
      "17/17 [==============================] - 68s 4s/step - loss: 0.3765 - accuracy: 0.9170 - val_loss: 1.2449 - val_accuracy: 0.5625\n",
      "Epoch 43/100\n",
      "17/17 [==============================] - 68s 4s/step - loss: 0.4112 - accuracy: 0.9225 - val_loss: 1.7491 - val_accuracy: 0.6406\n",
      "Epoch 44/100\n",
      "17/17 [==============================] - 67s 4s/step - loss: 0.3573 - accuracy: 0.9151 - val_loss: 0.8572 - val_accuracy: 0.6719\n",
      "Epoch 45/100\n",
      "17/17 [==============================] - 64s 4s/step - loss: 0.3757 - accuracy: 0.9133 - val_loss: 1.4259 - val_accuracy: 0.6562\n",
      "Epoch 46/100\n",
      "17/17 [==============================] - 65s 4s/step - loss: 0.3294 - accuracy: 0.9410 - val_loss: 0.9504 - val_accuracy: 0.6094\n",
      "Epoch 47/100\n",
      "17/17 [==============================] - 66s 4s/step - loss: 0.3383 - accuracy: 0.9336 - val_loss: 1.7731 - val_accuracy: 0.5781\n",
      "Epoch 48/100\n",
      "17/17 [==============================] - 66s 4s/step - loss: 0.3319 - accuracy: 0.9280 - val_loss: 1.4067 - val_accuracy: 0.7031\n",
      "Epoch 49/100\n",
      "17/17 [==============================] - 67s 4s/step - loss: 0.2901 - accuracy: 0.9391 - val_loss: 1.6550 - val_accuracy: 0.6562\n",
      "Epoch 50/100\n",
      "17/17 [==============================] - 67s 4s/step - loss: 0.2677 - accuracy: 0.9446 - val_loss: 2.1442 - val_accuracy: 0.5625\n",
      "Epoch 51/100\n",
      "17/17 [==============================] - 67s 4s/step - loss: 0.3464 - accuracy: 0.9244 - val_loss: 1.9062 - val_accuracy: 0.6094\n",
      "Epoch 52/100\n",
      "17/17 [==============================] - 70s 4s/step - loss: 0.3128 - accuracy: 0.9225 - val_loss: 1.2184 - val_accuracy: 0.6250\n",
      "Epoch 53/100\n",
      "17/17 [==============================] - 76s 4s/step - loss: 0.2854 - accuracy: 0.9373 - val_loss: 1.7212 - val_accuracy: 0.6562\n",
      "Epoch 54/100\n",
      "17/17 [==============================] - 75s 4s/step - loss: 0.2884 - accuracy: 0.9354 - val_loss: 1.2359 - val_accuracy: 0.7188\n",
      "Epoch 55/100\n",
      "17/17 [==============================] - 75s 4s/step - loss: 0.3163 - accuracy: 0.9354 - val_loss: 1.5866 - val_accuracy: 0.6875\n",
      "Epoch 56/100\n",
      "17/17 [==============================] - 75s 4s/step - loss: 0.2961 - accuracy: 0.9373 - val_loss: 1.4927 - val_accuracy: 0.6562\n",
      "Epoch 57/100\n",
      "17/17 [==============================] - 75s 4s/step - loss: 0.2937 - accuracy: 0.9483 - val_loss: 1.5435 - val_accuracy: 0.6562\n",
      "Epoch 58/100\n",
      "17/17 [==============================] - 75s 4s/step - loss: 0.3066 - accuracy: 0.9299 - val_loss: 1.0970 - val_accuracy: 0.7188\n"
     ]
    },
    {
     "name": "stdout",
     "output_type": "stream",
     "text": [
      "Epoch 59/100\n",
      "17/17 [==============================] - 75s 4s/step - loss: 0.2753 - accuracy: 0.9428 - val_loss: 1.2287 - val_accuracy: 0.6562\n",
      "Epoch 60/100\n",
      "17/17 [==============================] - 75s 4s/step - loss: 0.3262 - accuracy: 0.9188 - val_loss: 1.0348 - val_accuracy: 0.6562\n",
      "Epoch 61/100\n",
      "17/17 [==============================] - 75s 4s/step - loss: 0.3355 - accuracy: 0.9299 - val_loss: 0.9842 - val_accuracy: 0.6719\n",
      "Epoch 62/100\n",
      "17/17 [==============================] - 75s 4s/step - loss: 0.2737 - accuracy: 0.9373 - val_loss: 2.4198 - val_accuracy: 0.6250\n",
      "Epoch 63/100\n",
      "17/17 [==============================] - 75s 4s/step - loss: 0.2411 - accuracy: 0.9502 - val_loss: 1.5071 - val_accuracy: 0.6562\n",
      "Epoch 64/100\n",
      "17/17 [==============================] - 74s 4s/step - loss: 0.4471 - accuracy: 0.9077 - val_loss: 1.5366 - val_accuracy: 0.5625\n",
      "Epoch 65/100\n",
      "17/17 [==============================] - 73s 4s/step - loss: 0.2382 - accuracy: 0.9631 - val_loss: 1.4035 - val_accuracy: 0.6719\n",
      "Epoch 66/100\n",
      "17/17 [==============================] - 76s 4s/step - loss: 0.2803 - accuracy: 0.9354 - val_loss: 1.5290 - val_accuracy: 0.6562\n",
      "Epoch 67/100\n",
      "17/17 [==============================] - 74s 4s/step - loss: 0.3426 - accuracy: 0.9299 - val_loss: 1.2007 - val_accuracy: 0.6406\n",
      "Epoch 68/100\n",
      "17/17 [==============================] - 76s 4s/step - loss: 0.2409 - accuracy: 0.9502 - val_loss: 1.3912 - val_accuracy: 0.5781\n",
      "Epoch 69/100\n",
      "17/17 [==============================] - 73s 4s/step - loss: 0.2831 - accuracy: 0.9317 - val_loss: 4.2683 - val_accuracy: 0.5312\n",
      "Epoch 70/100\n",
      "17/17 [==============================] - 74s 4s/step - loss: 0.3019 - accuracy: 0.9317 - val_loss: 1.0830 - val_accuracy: 0.6719\n",
      "Epoch 71/100\n",
      "17/17 [==============================] - 74s 4s/step - loss: 0.2455 - accuracy: 0.9520 - val_loss: 2.0130 - val_accuracy: 0.5156\n",
      "Epoch 72/100\n",
      "17/17 [==============================] - 74s 4s/step - loss: 0.3203 - accuracy: 0.9430 - val_loss: 1.3117 - val_accuracy: 0.6719\n",
      "Epoch 73/100\n",
      "17/17 [==============================] - 73s 4s/step - loss: 0.2208 - accuracy: 0.9668 - val_loss: 1.2721 - val_accuracy: 0.6719\n",
      "Epoch 74/100\n",
      "17/17 [==============================] - 74s 4s/step - loss: 0.2465 - accuracy: 0.9520 - val_loss: 1.2263 - val_accuracy: 0.5781\n",
      "Epoch 75/100\n",
      "17/17 [==============================] - 74s 4s/step - loss: 0.2554 - accuracy: 0.9465 - val_loss: 1.6251 - val_accuracy: 0.6250\n",
      "Epoch 76/100\n",
      "17/17 [==============================] - 73s 4s/step - loss: 0.2365 - accuracy: 0.9428 - val_loss: 0.9644 - val_accuracy: 0.7344\n",
      "Epoch 77/100\n",
      "17/17 [==============================] - 73s 4s/step - loss: 0.3122 - accuracy: 0.9262 - val_loss: 0.9751 - val_accuracy: 0.5938\n",
      "Epoch 78/100\n",
      "17/17 [==============================] - 74s 4s/step - loss: 0.2482 - accuracy: 0.9391 - val_loss: 1.7120 - val_accuracy: 0.6562\n",
      "Epoch 79/100\n",
      "17/17 [==============================] - 74s 4s/step - loss: 0.2675 - accuracy: 0.9391 - val_loss: 2.2987 - val_accuracy: 0.6094\n",
      "Epoch 80/100\n",
      "17/17 [==============================] - 74s 4s/step - loss: 0.2191 - accuracy: 0.9596 - val_loss: 1.5639 - val_accuracy: 0.7031\n",
      "Epoch 81/100\n",
      "17/17 [==============================] - 70s 4s/step - loss: 0.2427 - accuracy: 0.9502 - val_loss: 1.1685 - val_accuracy: 0.6719\n",
      "Epoch 82/100\n",
      "17/17 [==============================] - 71s 4s/step - loss: 0.2785 - accuracy: 0.9446 - val_loss: 2.6948 - val_accuracy: 0.5312\n",
      "Epoch 83/100\n",
      "17/17 [==============================] - 71s 4s/step - loss: 0.2850 - accuracy: 0.9280 - val_loss: 0.9019 - val_accuracy: 0.6562\n",
      "Epoch 84/100\n",
      "17/17 [==============================] - 73s 4s/step - loss: 0.2391 - accuracy: 0.9391 - val_loss: 0.6541 - val_accuracy: 0.7031\n",
      "Epoch 85/100\n",
      "17/17 [==============================] - 75s 4s/step - loss: 0.2355 - accuracy: 0.9539 - val_loss: 1.4013 - val_accuracy: 0.6094\n",
      "Epoch 86/100\n",
      "17/17 [==============================] - 74s 4s/step - loss: 0.2674 - accuracy: 0.9299 - val_loss: 1.0638 - val_accuracy: 0.7031\n",
      "Epoch 87/100\n",
      "17/17 [==============================] - 74s 4s/step - loss: 0.2542 - accuracy: 0.9522 - val_loss: 0.8934 - val_accuracy: 0.7031\n",
      "Epoch 88/100\n",
      "17/17 [==============================] - 74s 4s/step - loss: 0.2660 - accuracy: 0.9467 - val_loss: 1.0321 - val_accuracy: 0.7031\n",
      "Epoch 89/100\n",
      "17/17 [==============================] - 74s 4s/step - loss: 0.2337 - accuracy: 0.9539 - val_loss: 1.0758 - val_accuracy: 0.6875\n",
      "Epoch 90/100\n",
      "17/17 [==============================] - 74s 4s/step - loss: 0.3463 - accuracy: 0.9446 - val_loss: 0.9677 - val_accuracy: 0.6719\n",
      "Epoch 91/100\n",
      "17/17 [==============================] - 74s 4s/step - loss: 0.2701 - accuracy: 0.9428 - val_loss: 0.8629 - val_accuracy: 0.6562\n",
      "Epoch 92/100\n",
      "17/17 [==============================] - 70s 4s/step - loss: 0.2427 - accuracy: 0.9502 - val_loss: 0.9277 - val_accuracy: 0.6875\n",
      "Epoch 93/100\n",
      "17/17 [==============================] - 72s 4s/step - loss: 0.2367 - accuracy: 0.9576 - val_loss: 1.1115 - val_accuracy: 0.6562\n",
      "Epoch 94/100\n",
      "17/17 [==============================] - 75s 4s/step - loss: 0.2694 - accuracy: 0.9410 - val_loss: 0.8294 - val_accuracy: 0.7188\n",
      "Epoch 95/100\n",
      "17/17 [==============================] - 74s 4s/step - loss: 0.1953 - accuracy: 0.9686 - val_loss: 1.4014 - val_accuracy: 0.7031\n",
      "Epoch 96/100\n",
      "17/17 [==============================] - 74s 4s/step - loss: 0.2741 - accuracy: 0.9410 - val_loss: 1.1631 - val_accuracy: 0.6406\n",
      "Epoch 97/100\n",
      "17/17 [==============================] - 75s 4s/step - loss: 0.1875 - accuracy: 0.9761 - val_loss: 1.1976 - val_accuracy: 0.6094\n",
      "Epoch 98/100\n",
      "17/17 [==============================] - 74s 4s/step - loss: 0.2557 - accuracy: 0.9393 - val_loss: 1.1086 - val_accuracy: 0.6875\n",
      "Epoch 99/100\n",
      "17/17 [==============================] - 74s 4s/step - loss: 0.2405 - accuracy: 0.9410 - val_loss: 1.1981 - val_accuracy: 0.6562\n",
      "Epoch 100/100\n",
      "17/17 [==============================] - 69s 4s/step - loss: 0.2156 - accuracy: 0.9613 - val_loss: 0.9588 - val_accuracy: 0.7031\n"
     ]
    }
   ],
   "source": [
    "batch_size = 32\n",
    "history = model.fit(\n",
    "      train_generator,\n",
    "      batch_size = 32,\n",
    "      epochs = 100,\n",
    "      steps_per_epoch=train_generator.samples//batch_size,\n",
    "      validation_data=validation_generator,\n",
    "      validation_steps=validation_generator.samples//batch_size,\n",
    "      callbacks=[callbacks],\n",
    "      verbose = 1)"
   ]
  },
  {
   "cell_type": "markdown",
   "id": "e61ba3ae",
   "metadata": {},
   "source": [
    "### Loss and Accuracy Test"
   ]
  },
  {
   "cell_type": "code",
   "execution_count": 10,
   "id": "90595b1c",
   "metadata": {},
   "outputs": [
    {
     "name": "stdout",
     "output_type": "stream",
     "text": [
      "3/3 [==============================] - 1s 232ms/step - loss: 1.0805 - accuracy: 0.6707\n",
      "Loss :  1.0804786682128906\n",
      "Accuracy : 0.6707317233085632\n"
     ]
    }
   ],
   "source": [
    "test_loss, test_accuracy = model.evaluate(validation_generator, verbose=1)\n",
    "print('Loss : ', test_loss)\n",
    "print('Accuracy :', test_accuracy)"
   ]
  },
  {
   "cell_type": "markdown",
   "id": "bb2f2ba1",
   "metadata": {},
   "source": [
    "### Plot training and validation accuracy and loss"
   ]
  },
  {
   "cell_type": "code",
   "execution_count": 9,
   "id": "da3e1ed2",
   "metadata": {},
   "outputs": [
    {
     "data": {
      "image/png": "[encoded data removed]",
      "text/plain": [
       "<Figure size 432x288 with 1 Axes>"
      ]
     },
     "metadata": {
      "needs_background": "light"
     },
     "output_type": "display_data"
    },
    {
     "data": {
      "image/png": "[encoded data removed]",
      "text/plain": [
       "<Figure size 432x288 with 1 Axes>"
      ]
     },
     "metadata": {
      "needs_background": "light"
     },
     "output_type": "display_data"
    }
   ],
   "source": [
    "import matplotlib.pyplot as plt\n",
    "# accuracies\n",
    "plt.plot(history.history['accuracy'], label='train acc')\n",
    "plt.plot(history.history['val_accuracy'], label='val acc')\n",
    "plt.legend()\n",
    "plt.show()\n",
    "\n",
    "# loss\n",
    "plt.plot(history.history['loss'], label='train loss')\n",
    "plt.plot(history.history['val_loss'], label='val loss')\n",
    "plt.legend()\n",
    "plt.show()"
   ]
  },
  {
   "cell_type": "markdown",
   "id": "830e4e62",
   "metadata": {},
   "source": [
    "### Predict Test"
   ]
  },
  {
   "cell_type": "code",
   "execution_count": 17,
   "id": "95654c08",
   "metadata": {},
   "outputs": [
    {
     "name": "stdout",
     "output_type": "stream",
     "text": [
      "Senggang\n"
     ]
    }
   ],
   "source": [
    "test_image=image.load_img(r'D:\\Dataset\\test\\senggang\\bb.jpg', target_size=(150,150))\n",
    "test_image=np.expand_dims(test_image, axis=0)\n",
    "\n",
    "result=model.predict(test_image)\n",
    "\n",
    "if result[0][0] == 1:\n",
    "    print(\"Senggang\")\n",
    "elif result[0][2] == 1:\n",
    "    print(\"Padat\")"
   ]
  },
  {
   "cell_type": "markdown",
   "id": "80a6e939",
   "metadata": {},
   "source": [
    "### Convert to tflite"
   ]
  },
  {
   "cell_type": "code",
   "execution_count": 18,
   "id": "8d3a8419",
   "metadata": {},
   "outputs": [
    {
     "name": "stdout",
     "output_type": "stream",
     "text": [
      "INFO:tensorflow:Assets written to: D:/Dataset/hasil/out2-RM-categorical-067-1080\\assets\n"
     ]
    },
    {
     "name": "stderr",
     "output_type": "stream",
     "text": [
      "WARNING:absl:Buffer deduplication procedure will be skipped when flatbuffer library is not properly loaded\n"
     ]
    },
    {
     "data": {
      "text/plain": [
       "716"
      ]
     },
     "execution_count": 18,
     "metadata": {},
     "output_type": "execute_result"
    }
   ],
   "source": [
    "# we will train \n",
    "import tensorflow as tf\n",
    "import pathlib\n",
    "\n",
    "# Construct a basic TF model.\n",
    "root = tf.train.Checkpoint()\n",
    "root.v1 = tf.Variable(3.)\n",
    "root.v2 = tf.Variable(2.)\n",
    "root.f = tf.function(lambda x: root.v1 * root.v2 * x)\n",
    "\n",
    "# Save the model into temp directory\n",
    "export_dir = \"D:/Dataset/hasil/out2-RM-categorical-067-1080\"\n",
    "input_data = tf.constant(1., shape=[1, 1])\n",
    "to_save = root.f.get_concrete_function(input_data)\n",
    "tf.saved_model.save(root, export_dir, to_save)\n",
    "# Convert the model into TF Lite.\n",
    "converter = tf.lite.TFLiteConverter.from_saved_model(export_dir)\n",
    "tflite_model = converter.convert()\n",
    "#save model \n",
    "tflite_model_files = pathlib.Path('D:/Dataset/hasil/out2-RM-categorical-067-1080/save_model_tflite2.tflite')\n",
    "tflite_model_files.write_bytes(tflite_model)"
   ]
  },
  {
   "cell_type": "code",
   "execution_count": null,
   "id": "812f2c73",
   "metadata": {},
   "outputs": [],
   "source": []
  }
 ],
 "metadata": {
  "kernelspec": {
   "display_name": "Python 3 (ipykernel)",
   "language": "python",
   "name": "python3"
  },
  "language_info": {
   "codemirror_mode": {
    "name": "ipython",
    "version": 3
   },
   "file_extension": ".py",
   "mimetype": "text/x-python",
   "name": "python",
   "nbconvert_exporter": "python",
   "pygments_lexer": "ipython3",
   "version": "3.9.7"
  }
 },
 "nbformat": 4,
 "nbformat_minor": 5
}
